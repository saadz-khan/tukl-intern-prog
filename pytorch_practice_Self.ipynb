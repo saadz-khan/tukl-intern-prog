{
  "nbformat": 4,
  "nbformat_minor": 0,
  "metadata": {
    "colab": {
      "name": "Pytorch Practice Self.ipynb",
      "provenance": [],
      "authorship_tag": "ABX9TyO0RkrHsQIOravJYDLipi75",
      "include_colab_link": true
    },
    "kernelspec": {
      "name": "python3",
      "display_name": "Python 3"
    },
    "language_info": {
      "name": "python"
    },
    "accelerator": "GPU"
  },
  "cells": [
    {
      "cell_type": "markdown",
      "metadata": {
        "id": "view-in-github",
        "colab_type": "text"
      },
      "source": [
        "<a href=\"https://colab.research.google.com/github/saadz-khan/tukl-intern-prog/blob/master/pytorch_practice_Self.ipynb\" target=\"_parent\"><img src=\"https://colab.research.google.com/assets/colab-badge.svg\" alt=\"Open In Colab\"/></a>"
      ]
    },
    {
      "cell_type": "markdown",
      "metadata": {
        "id": "hGjERWBxR7pH"
      },
      "source": [
        "# Self Practice of Pytorch\n"
      ]
    },
    {
      "cell_type": "code",
      "metadata": {
        "id": "c32lweFuR7aR"
      },
      "source": [
        "# Importing Libraries\n",
        "import torch"
      ],
      "execution_count": 1,
      "outputs": []
    },
    {
      "cell_type": "code",
      "metadata": {
        "colab": {
          "base_uri": "https://localhost:8080/"
        },
        "id": "iQH02BuTR1lv",
        "outputId": "c4f71342-6387-433e-e5d2-4f96467639d2"
      },
      "source": [
        "device = \"cuda\" if torch.cuda.is_available() else \"cpu\"\n",
        "my_tensor = torch.tensor([[1, 2, 3], [4,5,6]], dtype = torch.float32, device = device, requires_grad = True)\n",
        "print(my_tensor)"
      ],
      "execution_count": 7,
      "outputs": [
        {
          "output_type": "stream",
          "text": [
            "tensor([[1., 2., 3.],\n",
            "        [4., 5., 6.]], device='cuda:0', requires_grad=True)\n"
          ],
          "name": "stdout"
        }
      ]
    },
    {
      "cell_type": "code",
      "metadata": {
        "colab": {
          "base_uri": "https://localhost:8080/"
        },
        "id": "iTOrdrMuSaoe",
        "outputId": "4ab0d6a9-0326-45df-ca95-233f8f52625e"
      },
      "source": [
        "my_tensor.shape"
      ],
      "execution_count": 10,
      "outputs": [
        {
          "output_type": "execute_result",
          "data": {
            "text/plain": [
              "torch.Size([2, 3])"
            ]
          },
          "metadata": {
            "tags": []
          },
          "execution_count": 10
        }
      ]
    },
    {
      "cell_type": "code",
      "metadata": {
        "colab": {
          "base_uri": "https://localhost:8080/"
        },
        "id": "kU3kB9QfS5Fd",
        "outputId": "eac30637-0162-4099-bfef-89b4779fe90b"
      },
      "source": [
        "t = torch.linspace(start=0.1, end=1,  steps=10)\n",
        "u = torch.arange(start=0, end=5, step=1)\n",
        "v = torch.ones((3,3))\n",
        "w = torch.eye(5,5)\n",
        "x = torch.empty(size=(3,3), dtype=torch.float32, requires_grad=True)\n",
        "y = torch.randn(size=(3,3), dtype=torch.float32, requires_grad=True)\n",
        "z = torch.zeros(size=(3,3), dtype=torch.float32, requires_grad=True)\n",
        "z1 = torch.empty(size=(1,5)).normal_(mean=0, std=1)\n",
        "\n",
        "print(t)\n",
        "print(u)\n",
        "print(v)\n",
        "print(w)\n",
        "print(x)\n",
        "print(y)\n",
        "print(z)\n",
        "print(z1)"
      ],
      "execution_count": 21,
      "outputs": [
        {
          "output_type": "stream",
          "text": [
            "tensor([0.1000, 0.2000, 0.3000, 0.4000, 0.5000, 0.6000, 0.7000, 0.8000, 0.9000,\n",
            "        1.0000])\n",
            "tensor([0, 1, 2, 3, 4])\n",
            "tensor([[1., 1., 1.],\n",
            "        [1., 1., 1.],\n",
            "        [1., 1., 1.]])\n",
            "tensor([[1., 0., 0., 0., 0.],\n",
            "        [0., 1., 0., 0., 0.],\n",
            "        [0., 0., 1., 0., 0.],\n",
            "        [0., 0., 0., 1., 0.],\n",
            "        [0., 0., 0., 0., 1.]])\n",
            "tensor([[2.2515e-04, 3.0665e-41, 1.0000e+00],\n",
            "        [1.0000e+00, 1.0000e+00, 1.0000e+00],\n",
            "        [1.0000e+00, 1.0000e+00, 1.0000e+00]], requires_grad=True)\n",
            "tensor([[-0.3380, -0.4183, -0.7993],\n",
            "        [ 0.0222,  1.9862, -0.7579],\n",
            "        [ 2.3066,  0.7977, -1.6086]], requires_grad=True)\n",
            "tensor([[0., 0., 0.],\n",
            "        [0., 0., 0.],\n",
            "        [0., 0., 0.]], requires_grad=True)\n",
            "tensor([[-0.2079, -0.4780, -0.2063, -0.6570,  0.4704]])\n"
          ],
          "name": "stdout"
        }
      ]
    },
    {
      "cell_type": "code",
      "metadata": {
        "colab": {
          "base_uri": "https://localhost:8080/"
        },
        "id": "LlzyWlh7TW33",
        "outputId": "4f7d2081-512c-4e82-e86a-0f00fd712a1c"
      },
      "source": [
        "import numpy as np\n",
        "np_array = np.zeros((3,3))\n",
        "conv_tensor = torch.from_numpy(np_array)\n",
        "conv_tensor "
      ],
      "execution_count": 22,
      "outputs": [
        {
          "output_type": "execute_result",
          "data": {
            "text/plain": [
              "tensor([[0., 0., 0.],\n",
              "        [0., 0., 0.],\n",
              "        [0., 0., 0.]], dtype=torch.float64)"
            ]
          },
          "metadata": {
            "tags": []
          },
          "execution_count": 22
        }
      ]
    },
    {
      "cell_type": "code",
      "metadata": {
        "colab": {
          "base_uri": "https://localhost:8080/"
        },
        "id": "tD75p9jgW9FD",
        "outputId": "00456c05-60af-4ea7-9ac0-533c6ff3fffc"
      },
      "source": [
        "z = x + y # Best for Addition and Subtraction.\n",
        "\n",
        "# Division\n",
        "z = torch.true_divide(x, y)\n",
        "\n",
        "# inplace operations\n",
        "t = torch.zeros(3,3)\n",
        "t.add_(x)\n",
        "t += x # Computational Less expensive steps\n",
        "t\n",
        "\n",
        "# Exponentials\n",
        "z = x.pow(2)\n",
        "z\n",
        "\n",
        "# Comparison\n",
        "z = x > 0\n",
        "z = x < 0\n",
        "\n",
        "# Matrix Mul\n",
        "x1 = torch.randn((2,5))\n",
        "x2 = torch.randn((5,3))\n",
        "x3 = torch.mm(x1, x2)\n",
        "x3.shape\n",
        "\n",
        "# Matrix powers\n",
        "\n",
        "print(y.matrix_power(3))\n",
        "\n",
        "# Dot Product 1D Tensors \n",
        "x1 = torch.randn((2))\n",
        "x2 = torch.randn((2))\n",
        "torch.dot(x1,x2)"
      ],
      "execution_count": 35,
      "outputs": [
        {
          "output_type": "stream",
          "text": [
            "tensor([[ 4.8785, -0.4143, -0.6175],\n",
            "        [-0.0484,  7.0894, -0.6677],\n",
            "        [ 1.8188,  0.6639,  3.8534]], grad_fn=<MmBackward>)\n"
          ],
          "name": "stdout"
        },
        {
          "output_type": "execute_result",
          "data": {
            "text/plain": [
              "tensor(-0.0482)"
            ]
          },
          "metadata": {
            "tags": []
          },
          "execution_count": 35
        }
      ]
    },
    {
      "cell_type": "code",
      "metadata": {
        "colab": {
          "base_uri": "https://localhost:8080/"
        },
        "id": "hL3fhusnXNgV",
        "outputId": "ae0be976-7249-4475-bc9e-c28b74429765"
      },
      "source": [
        "sum_x = torch.sum(x, dim=0)\n",
        "values, indices = torch.max(x, dim=0)\n",
        "print(values) \n",
        "print(indices)\n",
        "\n",
        "values, indices = torch.min(x, dim=0)\n",
        "print(values) \n",
        "print(indices)\n",
        "z = torch.argmax(x,dim=0)\n",
        "z"
      ],
      "execution_count": 37,
      "outputs": [
        {
          "output_type": "stream",
          "text": [
            "tensor([1., 1., 1.], grad_fn=<MaxBackward0>)\n",
            "tensor([1, 1, 0])\n",
            "tensor([2.2515e-04, 3.0665e-41, 1.0000e+00], grad_fn=<MinBackward0>)\n",
            "tensor([0, 0, 0])\n"
          ],
          "name": "stdout"
        },
        {
          "output_type": "execute_result",
          "data": {
            "text/plain": [
              "tensor([1, 1, 0])"
            ]
          },
          "metadata": {
            "tags": []
          },
          "execution_count": 37
        }
      ]
    },
    {
      "cell_type": "code",
      "metadata": {
        "id": "iH3rlpXjgfBO"
      },
      "source": [
        ""
      ],
      "execution_count": null,
      "outputs": []
    }
  ]
}