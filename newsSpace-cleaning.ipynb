{
  "nbformat": 4,
  "nbformat_minor": 0,
  "metadata": {
    "colab": {
      "name": "Untitled6.ipynb",
      "provenance": [],
      "mount_file_id": "1qTY0M6-JeCGybO_D1929Z5ubqks0938f",
      "authorship_tag": "ABX9TyPQsX30Y2KIwEwjYtpXEEGN",
      "include_colab_link": true
    },
    "kernelspec": {
      "name": "python3",
      "display_name": "Python 3"
    },
    "language_info": {
      "name": "python"
    },
    "accelerator": "GPU"
  },
  "cells": [
    {
      "cell_type": "markdown",
      "metadata": {
        "id": "view-in-github",
        "colab_type": "text"
      },
      "source": [
        "<a href=\"https://colab.research.google.com/github/saadz-khan/tukl-intern-prog/blob/master/newsSpace-cleaning.ipynb\" target=\"_parent\"><img src=\"https://colab.research.google.com/assets/colab-badge.svg\" alt=\"Open In Colab\"/></a>"
      ]
    },
    {
      "cell_type": "code",
      "metadata": {
        "id": "SiVLU4G8GIy1"
      },
      "source": [
        "import pandas as pd\n"
      ],
      "execution_count": null,
      "outputs": []
    },
    {
      "cell_type": "code",
      "metadata": {
        "id": "7ZvJdkrMb2HP"
      },
      "source": [
        "ex = open('/content/example.csv', 'r')\n",
        "ex.readlines()"
      ],
      "execution_count": null,
      "outputs": []
    },
    {
      "cell_type": "code",
      "metadata": {
        "colab": {
          "base_uri": "https://localhost:8080/"
        },
        "id": "lP-HxiC_PQd9",
        "outputId": "6932199f-2fda-4b72-c5f7-e313fab554cc"
      },
      "source": [
        "file1 = \n",
        "file1.readlines()"
      ],
      "execution_count": null,
      "outputs": [
        {
          "output_type": "execute_result",
          "data": {
            "text/plain": [
              "[]"
            ]
          },
          "metadata": {
            "tags": []
          },
          "execution_count": 46
        }
      ]
    },
    {
      "cell_type": "code",
      "metadata": {
        "id": "hkq74ODMZoL6"
      },
      "source": [
        "import re\n",
        "def replace(string, sub, wanted, n):\n",
        "    pattern = re.compile(sub)\n",
        "    where = [m for m in pattern.finditer(string)][n-1]\n",
        "    before = string[:where.start()]\n",
        "    after = string[where.end():]\n",
        "    newString = before + wanted + after\n",
        "\n",
        "    return newString"
      ],
      "execution_count": null,
      "outputs": []
    },
    {
      "cell_type": "code",
      "metadata": {
        "id": "5Coh5GznP3fy"
      },
      "source": [
        "with open('/content/drive/MyDrive/NLP Datasets/newSpace.txt','r') as file1:\n",
        "  with open('/content/file2.txt', 'w') as file2:\n",
        "    for line in file1.readlines():\n",
        "      file2.write(replace(line, '\\t','\"', 5))\n",
        "  "
      ],
      "execution_count": null,
      "outputs": []
    },
    {
      "cell_type": "code",
      "metadata": {
        "id": "WT7_iNkqfJBV"
      },
      "source": [
        "# Using readlines()\n",
        "Lines = file1.readlines()\n",
        " \n",
        "count = 0\n",
        "# Strips the newline character\n",
        "for line in Lines:\n",
        "    count += 1\n",
        "    print(\"Line{}: {}\".format(count, line.strip()))"
      ],
      "execution_count": null,
      "outputs": []
    },
    {
      "cell_type": "code",
      "metadata": {
        "id": "rZhi2stdihcA"
      },
      "source": [
        ""
      ],
      "execution_count": null,
      "outputs": []
    }
  ]
}